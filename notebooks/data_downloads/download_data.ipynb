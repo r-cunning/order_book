{
 "cells": [
  {
   "cell_type": "code",
   "execution_count": 1,
   "metadata": {},
   "outputs": [
    {
     "name": "stdout",
     "output_type": "stream",
     "text": [
      "Downloading https://data.everef.net/market-orders/market-orders-latest.v3.csv.bz2\n",
      "Download complete.\n"
     ]
    }
   ],
   "source": [
    "import requests\n",
    "from bs4 import BeautifulSoup\n",
    "import os\n",
    "\n",
    "import time\n",
    "from datetime import datetime\n",
    "\n",
    "# Function to download a file from a URL\n",
    "def download_file(url, folder_path):\n",
    "    local_filename = url.split('/')[-1]\n",
    "    # Create folder if it doesn't exist\n",
    "    os.makedirs(folder_path, exist_ok=True)\n",
    "    # Full path for saving the file\n",
    "    full_path = os.path.join(folder_path, local_filename)\n",
    "    # Stream the download to handle large files\n",
    "    with requests.get(url, stream=True) as r:\n",
    "        r.raise_for_status()\n",
    "        with open(full_path, 'wb') as f:\n",
    "            for chunk in r.iter_content(chunk_size=8192):\n",
    "                f.write(chunk)\n",
    "    return full_path\n",
    "\n",
    "# URL of the webpage containing the CSV links\n",
    "webpage_url = 'https://data.everef.net/market-orders/'\n",
    "\n",
    "last_checked_minute = datetime.now().minute\n",
    "\n",
    "# Send a GET request to fetch the webpage content\n",
    "response = requests.get(webpage_url)\n",
    "response.raise_for_status()  # Check if the request was successful\n",
    "\n",
    "# Parse the webpage content\n",
    "soup = BeautifulSoup(response.content, 'html.parser')\n",
    "\n",
    "# Find all links ending with .csv\n",
    "csv_links = soup.find_all('a', href=True)\n",
    "csv_urls = [link['href'] for link in csv_links if link['href'].endswith('.csv.bz2')]\n",
    "\n",
    "# Folder path to save the downloaded CSV files\n",
    "folder_path = 'data/eve_ref_market_orders/latest'\n",
    "\n",
    "# Download each CSV file\n",
    "for csv_url in csv_urls:\n",
    "    full_csv_url = requests.compat.urljoin(webpage_url, csv_url)\n",
    "    print(f'Downloading {full_csv_url}')\n",
    "    download_file(full_csv_url, folder_path)\n",
    "\n",
    "print('Download complete.')\n"
   ]
  },
  {
   "cell_type": "code",
   "execution_count": 2,
   "metadata": {},
   "outputs": [
    {
     "name": "stdout",
     "output_type": "stream",
     "text": [
      "Extracted data/eve_ref_market_orders/latest\\market-orders-latest.v3.csv.bz2 to data/eve_ref_market_orders/latest\\market-orders-latest.v3.csv\n"
     ]
    }
   ],
   "source": [
    "import bz2\n",
    "import os\n",
    "\n",
    "def extract_bz2_files(folder_path):\n",
    "    # List all files in the directory\n",
    "    for file_name in os.listdir(folder_path):\n",
    "        if file_name.endswith('.bz2'):\n",
    "            file_path = os.path.join(folder_path, file_name)\n",
    "            output_file_path = os.path.splitext(file_path)[0]  # Remove .bz2 extension\n",
    "\n",
    "            with bz2.BZ2File(file_path, 'rb') as file:\n",
    "                with open(output_file_path, 'wb') as new_file:\n",
    "                    for data in iter(lambda: file.read(100 * 1024), b''):\n",
    "                        new_file.write(data)\n",
    "                        \n",
    "            \n",
    "            print(f'Extracted {file_path} to {output_file_path}')\n",
    "\n",
    "extract_bz2_files(folder_path)\n"
   ]
  },
  {
   "cell_type": "code",
   "execution_count": 3,
   "metadata": {},
   "outputs": [
    {
     "name": "stdout",
     "output_type": "stream",
     "text": [
      "Deleted market-orders-latest.v3.csv.bz2\n"
     ]
    }
   ],
   "source": [
    "# delete all files with .bz2 extension:\n",
    "for file_name in os.listdir(folder_path):\n",
    "    if file_name.endswith('.bz2'):\n",
    "        os.remove(os.path.join(folder_path, file_name))\n",
    "        print(f'Deleted {file_name}')"
   ]
  },
  {
   "cell_type": "code",
   "execution_count": 1,
   "metadata": {},
   "outputs": [],
   "source": [
    "from src import update_orderbook as uo"
   ]
  },
  {
   "cell_type": "code",
   "execution_count": 2,
   "metadata": {},
   "outputs": [
    {
     "name": "stdout",
     "output_type": "stream",
     "text": [
      "Downloading https://data.everef.net/market-orders/market-orders-latest.v3.csv.bz2\n",
      "Download complete.\n",
      "Extracted data/eve_ref_market_orders/latest\\market-orders-latest.v3.csv.bz2 to data/eve_ref_market_orders/latest\\market-orders-latest.v3.csv\n",
      "Deleted data/eve_ref_market_orders/latest\\market-orders-latest.v3.csv.bz2\n"
     ]
    }
   ],
   "source": [
    "uo.update_book()"
   ]
  }
 ],
 "metadata": {
  "kernelspec": {
   "display_name": "eve_trading",
   "language": "python",
   "name": "python3"
  },
  "language_info": {
   "codemirror_mode": {
    "name": "ipython",
    "version": 3
   },
   "file_extension": ".py",
   "mimetype": "text/x-python",
   "name": "python",
   "nbconvert_exporter": "python",
   "pygments_lexer": "ipython3",
   "version": "3.9.18"
  }
 },
 "nbformat": 4,
 "nbformat_minor": 2
}
