{
 "cells": [
  {
   "cell_type": "markdown",
   "metadata": {},
   "source": [
    "## Implementation of Kolm et al. 2021\n",
    "### (ROUGH WORK)\n",
    " Kolm PN, Turiel J, Westray N. Deep Order Flow Imbalance: Extracting Alpha at Multiple Horizons from the Limit Order Book [Internet]. Rochester, NY; 2021 [cited 2024 Jul 26]. Available from: https://papers.ssrn.com/abstract=3900141\n"
   ]
  },
  {
   "cell_type": "code",
   "execution_count": 1,
   "metadata": {},
   "outputs": [],
   "source": [
    "import pandas as pd\n",
    "import numpy as np"
   ]
  },
  {
   "cell_type": "code",
   "execution_count": 2,
   "metadata": {},
   "outputs": [],
   "source": [
    "df = pd.read_csv('data/2024_07_24__27/market-orders-2024-07-24_00-15-05.v3.csv')"
   ]
  },
  {
   "cell_type": "code",
   "execution_count": 3,
   "metadata": {},
   "outputs": [],
   "source": [
    "df2 = pd.read_csv('data/2024_07_24__27/market-orders-2024-07-24_00-45-05.v3.csv')"
   ]
  },
  {
   "cell_type": "code",
   "execution_count": 4,
   "metadata": {},
   "outputs": [],
   "source": [
    "jita_orders = df[df['station_id'] == 60003760]"
   ]
  },
  {
   "cell_type": "code",
   "execution_count": 5,
   "metadata": {},
   "outputs": [
    {
     "name": "stdout",
     "output_type": "stream",
     "text": [
      "       duration  is_buy_order                issued  location_id  min_volume  \\\n",
      "17547        30          True  2024-07-23T22:36:51Z     60003760           1   \n",
      "17546        90          True  2024-07-23T09:24:46Z     60003760           1   \n",
      "17548        90          True  2024-07-23T22:54:50Z     60003760           1   \n",
      "17541        90          True  2024-07-12T14:20:08Z     60003760           1   \n",
      "17549        90          True  2024-07-23T22:55:00Z     60003760           1   \n",
      "17550        90          True  2024-07-23T22:55:08Z     60003760           1   \n",
      "17551        90          True  2024-07-23T22:55:15Z     60003760           1   \n",
      "17545        90          True  2024-07-23T06:58:59Z     60003760           1   \n",
      "17552        90          True  2024-07-23T22:55:24Z     60003760           1   \n",
      "17538        90          True  2024-07-07T11:22:14Z     60003760           1   \n",
      "\n",
      "         order_id  price    range   system_id  type_id  volume_remain  \\\n",
      "17547  6837451860   4.54  station  30000142.0       34        5000000   \n",
      "17546  6837016639   4.54  station  30000142.0       34       47450186   \n",
      "17548  6837458821   4.50  station  30000142.0       34              1   \n",
      "17541  6829636991   4.48  station  30000142.0       34       74952003   \n",
      "17549  6837458875   4.45  station  30000142.0       34              1   \n",
      "17550  6837458909   4.40  station  30000142.0       34              1   \n",
      "17551  6837458995   4.35  station  30000142.0       34              1   \n",
      "17545  6836963362   4.34  station  30000142.0       34      200000000   \n",
      "17552  6837459032   4.30  station  30000142.0       34              1   \n",
      "17538  6826475112   4.19  station  30000142.0       34      180184129   \n",
      "\n",
      "       volume_total    http_last_modified  station_id  region_id  \\\n",
      "17547       5000000  2024-07-24T00:12:56Z  60003760.0   10000002   \n",
      "17546     100000000  2024-07-24T00:12:56Z  60003760.0   10000002   \n",
      "17548             1  2024-07-24T00:12:56Z  60003760.0   10000002   \n",
      "17541     111111111  2024-07-24T00:12:56Z  60003760.0   10000002   \n",
      "17549             1  2024-07-24T00:12:56Z  60003760.0   10000002   \n",
      "17550             1  2024-07-24T00:12:56Z  60003760.0   10000002   \n",
      "17551             1  2024-07-24T00:12:56Z  60003760.0   10000002   \n",
      "17545     200000000  2024-07-24T00:12:56Z  60003760.0   10000002   \n",
      "17552             1  2024-07-24T00:12:56Z  60003760.0   10000002   \n",
      "17538     200000000  2024-07-24T00:12:56Z  60003760.0   10000002   \n",
      "\n",
      "       constellation_id  \n",
      "17547        20000020.0  \n",
      "17546        20000020.0  \n",
      "17548        20000020.0  \n",
      "17541        20000020.0  \n",
      "17549        20000020.0  \n",
      "17550        20000020.0  \n",
      "17551        20000020.0  \n",
      "17545        20000020.0  \n",
      "17552        20000020.0  \n",
      "17538        20000020.0  \n"
     ]
    }
   ],
   "source": [
    "print(jita_orders[(jita_orders['type_id'] == 34) & (jita_orders['is_buy_order'] == True)].sort_values('price', ascending=False).head(10))\n"
   ]
  },
  {
   "cell_type": "code",
   "execution_count": 6,
   "metadata": {},
   "outputs": [],
   "source": [
    "buy_state0 = jita_orders[(jita_orders['type_id'] == 34) & (jita_orders['is_buy_order'] == True)].sort_values('price', ascending=False).head(10).drop(columns=['constellation_id', 'region_id', 'http_last_modified', 'system_id', 'location_id', 'station_id'])"
   ]
  },
  {
   "cell_type": "code",
   "execution_count": 7,
   "metadata": {},
   "outputs": [],
   "source": [
    "sell_state0 = jita_orders[(jita_orders['type_id'] == 34) & (jita_orders['is_buy_order'] == False)].sort_values('price', ascending=True).head(10).drop(columns=['constellation_id', 'region_id', 'http_last_modified', 'system_id', 'location_id', 'station_id'])"
   ]
  },
  {
   "cell_type": "code",
   "execution_count": 8,
   "metadata": {},
   "outputs": [
    {
     "data": {
      "text/html": [
       "<div>\n",
       "<style scoped>\n",
       "    .dataframe tbody tr th:only-of-type {\n",
       "        vertical-align: middle;\n",
       "    }\n",
       "\n",
       "    .dataframe tbody tr th {\n",
       "        vertical-align: top;\n",
       "    }\n",
       "\n",
       "    .dataframe thead th {\n",
       "        text-align: right;\n",
       "    }\n",
       "</style>\n",
       "<table border=\"1\" class=\"dataframe\">\n",
       "  <thead>\n",
       "    <tr style=\"text-align: right;\">\n",
       "      <th></th>\n",
       "      <th>duration</th>\n",
       "      <th>is_buy_order</th>\n",
       "      <th>issued</th>\n",
       "      <th>min_volume</th>\n",
       "      <th>order_id</th>\n",
       "      <th>price</th>\n",
       "      <th>range</th>\n",
       "      <th>type_id</th>\n",
       "      <th>volume_remain</th>\n",
       "      <th>volume_total</th>\n",
       "    </tr>\n",
       "  </thead>\n",
       "  <tbody>\n",
       "    <tr>\n",
       "      <th>17547</th>\n",
       "      <td>30</td>\n",
       "      <td>True</td>\n",
       "      <td>2024-07-23T22:36:51Z</td>\n",
       "      <td>1</td>\n",
       "      <td>6837451860</td>\n",
       "      <td>4.54</td>\n",
       "      <td>station</td>\n",
       "      <td>34</td>\n",
       "      <td>5000000</td>\n",
       "      <td>5000000</td>\n",
       "    </tr>\n",
       "    <tr>\n",
       "      <th>17546</th>\n",
       "      <td>90</td>\n",
       "      <td>True</td>\n",
       "      <td>2024-07-23T09:24:46Z</td>\n",
       "      <td>1</td>\n",
       "      <td>6837016639</td>\n",
       "      <td>4.54</td>\n",
       "      <td>station</td>\n",
       "      <td>34</td>\n",
       "      <td>47450186</td>\n",
       "      <td>100000000</td>\n",
       "    </tr>\n",
       "    <tr>\n",
       "      <th>17548</th>\n",
       "      <td>90</td>\n",
       "      <td>True</td>\n",
       "      <td>2024-07-23T22:54:50Z</td>\n",
       "      <td>1</td>\n",
       "      <td>6837458821</td>\n",
       "      <td>4.50</td>\n",
       "      <td>station</td>\n",
       "      <td>34</td>\n",
       "      <td>1</td>\n",
       "      <td>1</td>\n",
       "    </tr>\n",
       "    <tr>\n",
       "      <th>17541</th>\n",
       "      <td>90</td>\n",
       "      <td>True</td>\n",
       "      <td>2024-07-12T14:20:08Z</td>\n",
       "      <td>1</td>\n",
       "      <td>6829636991</td>\n",
       "      <td>4.48</td>\n",
       "      <td>station</td>\n",
       "      <td>34</td>\n",
       "      <td>74952003</td>\n",
       "      <td>111111111</td>\n",
       "    </tr>\n",
       "    <tr>\n",
       "      <th>17549</th>\n",
       "      <td>90</td>\n",
       "      <td>True</td>\n",
       "      <td>2024-07-23T22:55:00Z</td>\n",
       "      <td>1</td>\n",
       "      <td>6837458875</td>\n",
       "      <td>4.45</td>\n",
       "      <td>station</td>\n",
       "      <td>34</td>\n",
       "      <td>1</td>\n",
       "      <td>1</td>\n",
       "    </tr>\n",
       "    <tr>\n",
       "      <th>17550</th>\n",
       "      <td>90</td>\n",
       "      <td>True</td>\n",
       "      <td>2024-07-23T22:55:08Z</td>\n",
       "      <td>1</td>\n",
       "      <td>6837458909</td>\n",
       "      <td>4.40</td>\n",
       "      <td>station</td>\n",
       "      <td>34</td>\n",
       "      <td>1</td>\n",
       "      <td>1</td>\n",
       "    </tr>\n",
       "    <tr>\n",
       "      <th>17551</th>\n",
       "      <td>90</td>\n",
       "      <td>True</td>\n",
       "      <td>2024-07-23T22:55:15Z</td>\n",
       "      <td>1</td>\n",
       "      <td>6837458995</td>\n",
       "      <td>4.35</td>\n",
       "      <td>station</td>\n",
       "      <td>34</td>\n",
       "      <td>1</td>\n",
       "      <td>1</td>\n",
       "    </tr>\n",
       "    <tr>\n",
       "      <th>17545</th>\n",
       "      <td>90</td>\n",
       "      <td>True</td>\n",
       "      <td>2024-07-23T06:58:59Z</td>\n",
       "      <td>1</td>\n",
       "      <td>6836963362</td>\n",
       "      <td>4.34</td>\n",
       "      <td>station</td>\n",
       "      <td>34</td>\n",
       "      <td>200000000</td>\n",
       "      <td>200000000</td>\n",
       "    </tr>\n",
       "    <tr>\n",
       "      <th>17552</th>\n",
       "      <td>90</td>\n",
       "      <td>True</td>\n",
       "      <td>2024-07-23T22:55:24Z</td>\n",
       "      <td>1</td>\n",
       "      <td>6837459032</td>\n",
       "      <td>4.30</td>\n",
       "      <td>station</td>\n",
       "      <td>34</td>\n",
       "      <td>1</td>\n",
       "      <td>1</td>\n",
       "    </tr>\n",
       "    <tr>\n",
       "      <th>17538</th>\n",
       "      <td>90</td>\n",
       "      <td>True</td>\n",
       "      <td>2024-07-07T11:22:14Z</td>\n",
       "      <td>1</td>\n",
       "      <td>6826475112</td>\n",
       "      <td>4.19</td>\n",
       "      <td>station</td>\n",
       "      <td>34</td>\n",
       "      <td>180184129</td>\n",
       "      <td>200000000</td>\n",
       "    </tr>\n",
       "  </tbody>\n",
       "</table>\n",
       "</div>"
      ],
      "text/plain": [
       "       duration  is_buy_order                issued  min_volume    order_id  \\\n",
       "17547        30          True  2024-07-23T22:36:51Z           1  6837451860   \n",
       "17546        90          True  2024-07-23T09:24:46Z           1  6837016639   \n",
       "17548        90          True  2024-07-23T22:54:50Z           1  6837458821   \n",
       "17541        90          True  2024-07-12T14:20:08Z           1  6829636991   \n",
       "17549        90          True  2024-07-23T22:55:00Z           1  6837458875   \n",
       "17550        90          True  2024-07-23T22:55:08Z           1  6837458909   \n",
       "17551        90          True  2024-07-23T22:55:15Z           1  6837458995   \n",
       "17545        90          True  2024-07-23T06:58:59Z           1  6836963362   \n",
       "17552        90          True  2024-07-23T22:55:24Z           1  6837459032   \n",
       "17538        90          True  2024-07-07T11:22:14Z           1  6826475112   \n",
       "\n",
       "       price    range  type_id  volume_remain  volume_total  \n",
       "17547   4.54  station       34        5000000       5000000  \n",
       "17546   4.54  station       34       47450186     100000000  \n",
       "17548   4.50  station       34              1             1  \n",
       "17541   4.48  station       34       74952003     111111111  \n",
       "17549   4.45  station       34              1             1  \n",
       "17550   4.40  station       34              1             1  \n",
       "17551   4.35  station       34              1             1  \n",
       "17545   4.34  station       34      200000000     200000000  \n",
       "17552   4.30  station       34              1             1  \n",
       "17538   4.19  station       34      180184129     200000000  "
      ]
     },
     "execution_count": 8,
     "metadata": {},
     "output_type": "execute_result"
    }
   ],
   "source": [
    "buy_state0"
   ]
  },
  {
   "cell_type": "code",
   "execution_count": 9,
   "metadata": {},
   "outputs": [
    {
     "data": {
      "text/html": [
       "<div>\n",
       "<style scoped>\n",
       "    .dataframe tbody tr th:only-of-type {\n",
       "        vertical-align: middle;\n",
       "    }\n",
       "\n",
       "    .dataframe tbody tr th {\n",
       "        vertical-align: top;\n",
       "    }\n",
       "\n",
       "    .dataframe thead th {\n",
       "        text-align: right;\n",
       "    }\n",
       "</style>\n",
       "<table border=\"1\" class=\"dataframe\">\n",
       "  <thead>\n",
       "    <tr style=\"text-align: right;\">\n",
       "      <th></th>\n",
       "      <th>duration</th>\n",
       "      <th>is_buy_order</th>\n",
       "      <th>issued</th>\n",
       "      <th>min_volume</th>\n",
       "      <th>order_id</th>\n",
       "      <th>price</th>\n",
       "      <th>range</th>\n",
       "      <th>type_id</th>\n",
       "      <th>volume_remain</th>\n",
       "      <th>volume_total</th>\n",
       "    </tr>\n",
       "  </thead>\n",
       "  <tbody>\n",
       "    <tr>\n",
       "      <th>17460</th>\n",
       "      <td>90</td>\n",
       "      <td>False</td>\n",
       "      <td>2024-07-23T23:48:50Z</td>\n",
       "      <td>1</td>\n",
       "      <td>6837480310</td>\n",
       "      <td>4.94</td>\n",
       "      <td>region</td>\n",
       "      <td>34</td>\n",
       "      <td>48505139</td>\n",
       "      <td>86787323</td>\n",
       "    </tr>\n",
       "    <tr>\n",
       "      <th>17459</th>\n",
       "      <td>90</td>\n",
       "      <td>False</td>\n",
       "      <td>2024-07-23T22:58:19Z</td>\n",
       "      <td>1</td>\n",
       "      <td>6837460103</td>\n",
       "      <td>4.95</td>\n",
       "      <td>region</td>\n",
       "      <td>34</td>\n",
       "      <td>241539369</td>\n",
       "      <td>243348635</td>\n",
       "    </tr>\n",
       "    <tr>\n",
       "      <th>17456</th>\n",
       "      <td>90</td>\n",
       "      <td>False</td>\n",
       "      <td>2024-07-23T22:46:36Z</td>\n",
       "      <td>1</td>\n",
       "      <td>6837455709</td>\n",
       "      <td>4.96</td>\n",
       "      <td>region</td>\n",
       "      <td>34</td>\n",
       "      <td>566577</td>\n",
       "      <td>569944</td>\n",
       "    </tr>\n",
       "    <tr>\n",
       "      <th>17455</th>\n",
       "      <td>90</td>\n",
       "      <td>False</td>\n",
       "      <td>2024-07-23T22:16:23Z</td>\n",
       "      <td>1</td>\n",
       "      <td>6837441535</td>\n",
       "      <td>4.97</td>\n",
       "      <td>region</td>\n",
       "      <td>34</td>\n",
       "      <td>78585527</td>\n",
       "      <td>134574562</td>\n",
       "    </tr>\n",
       "    <tr>\n",
       "      <th>17444</th>\n",
       "      <td>30</td>\n",
       "      <td>False</td>\n",
       "      <td>2024-07-22T08:05:10Z</td>\n",
       "      <td>1</td>\n",
       "      <td>6836328234</td>\n",
       "      <td>4.98</td>\n",
       "      <td>region</td>\n",
       "      <td>34</td>\n",
       "      <td>657497744</td>\n",
       "      <td>1414420495</td>\n",
       "    </tr>\n",
       "    <tr>\n",
       "      <th>17447</th>\n",
       "      <td>90</td>\n",
       "      <td>False</td>\n",
       "      <td>2024-07-22T19:11:37Z</td>\n",
       "      <td>1</td>\n",
       "      <td>6836654427</td>\n",
       "      <td>4.98</td>\n",
       "      <td>region</td>\n",
       "      <td>34</td>\n",
       "      <td>18798076</td>\n",
       "      <td>18798076</td>\n",
       "    </tr>\n",
       "    <tr>\n",
       "      <th>17450</th>\n",
       "      <td>90</td>\n",
       "      <td>False</td>\n",
       "      <td>2024-07-23T11:29:14Z</td>\n",
       "      <td>1</td>\n",
       "      <td>6837061817</td>\n",
       "      <td>4.98</td>\n",
       "      <td>region</td>\n",
       "      <td>34</td>\n",
       "      <td>33904247</td>\n",
       "      <td>33904247</td>\n",
       "    </tr>\n",
       "    <tr>\n",
       "      <th>17439</th>\n",
       "      <td>3</td>\n",
       "      <td>False</td>\n",
       "      <td>2024-07-22T00:48:05Z</td>\n",
       "      <td>1</td>\n",
       "      <td>6836174590</td>\n",
       "      <td>4.99</td>\n",
       "      <td>region</td>\n",
       "      <td>34</td>\n",
       "      <td>1803798</td>\n",
       "      <td>1803798</td>\n",
       "    </tr>\n",
       "    <tr>\n",
       "      <th>17427</th>\n",
       "      <td>90</td>\n",
       "      <td>False</td>\n",
       "      <td>2024-07-21T00:38:31Z</td>\n",
       "      <td>1</td>\n",
       "      <td>6834560854</td>\n",
       "      <td>4.99</td>\n",
       "      <td>region</td>\n",
       "      <td>34</td>\n",
       "      <td>739636204</td>\n",
       "      <td>2147483647</td>\n",
       "    </tr>\n",
       "    <tr>\n",
       "      <th>17443</th>\n",
       "      <td>30</td>\n",
       "      <td>False</td>\n",
       "      <td>2024-07-22T07:12:19Z</td>\n",
       "      <td>1</td>\n",
       "      <td>6836308801</td>\n",
       "      <td>4.99</td>\n",
       "      <td>region</td>\n",
       "      <td>34</td>\n",
       "      <td>82703704</td>\n",
       "      <td>82703704</td>\n",
       "    </tr>\n",
       "  </tbody>\n",
       "</table>\n",
       "</div>"
      ],
      "text/plain": [
       "       duration  is_buy_order                issued  min_volume    order_id  \\\n",
       "17460        90         False  2024-07-23T23:48:50Z           1  6837480310   \n",
       "17459        90         False  2024-07-23T22:58:19Z           1  6837460103   \n",
       "17456        90         False  2024-07-23T22:46:36Z           1  6837455709   \n",
       "17455        90         False  2024-07-23T22:16:23Z           1  6837441535   \n",
       "17444        30         False  2024-07-22T08:05:10Z           1  6836328234   \n",
       "17447        90         False  2024-07-22T19:11:37Z           1  6836654427   \n",
       "17450        90         False  2024-07-23T11:29:14Z           1  6837061817   \n",
       "17439         3         False  2024-07-22T00:48:05Z           1  6836174590   \n",
       "17427        90         False  2024-07-21T00:38:31Z           1  6834560854   \n",
       "17443        30         False  2024-07-22T07:12:19Z           1  6836308801   \n",
       "\n",
       "       price   range  type_id  volume_remain  volume_total  \n",
       "17460   4.94  region       34       48505139      86787323  \n",
       "17459   4.95  region       34      241539369     243348635  \n",
       "17456   4.96  region       34         566577        569944  \n",
       "17455   4.97  region       34       78585527     134574562  \n",
       "17444   4.98  region       34      657497744    1414420495  \n",
       "17447   4.98  region       34       18798076      18798076  \n",
       "17450   4.98  region       34       33904247      33904247  \n",
       "17439   4.99  region       34        1803798       1803798  \n",
       "17427   4.99  region       34      739636204    2147483647  \n",
       "17443   4.99  region       34       82703704      82703704  "
      ]
     },
     "execution_count": 9,
     "metadata": {},
     "output_type": "execute_result"
    }
   ],
   "source": [
    "sell_state0"
   ]
  },
  {
   "cell_type": "markdown",
   "metadata": {},
   "source": [
    "state0 = a_t_1, "
   ]
  },
  {
   "cell_type": "code",
   "execution_count": 10,
   "metadata": {},
   "outputs": [],
   "source": [
    "jita_orders2 = df2[df2['station_id'] == 60003760]"
   ]
  },
  {
   "cell_type": "code",
   "execution_count": 11,
   "metadata": {},
   "outputs": [],
   "source": [
    "buy_state1 = jita_orders2[(jita_orders2['type_id'] == 34) & (jita_orders2['is_buy_order'] == True)].sort_values('price', ascending=False).head(10).drop(columns=['constellation_id', 'region_id', 'http_last_modified', 'system_id', 'location_id', 'station_id'])"
   ]
  },
  {
   "cell_type": "code",
   "execution_count": 12,
   "metadata": {},
   "outputs": [],
   "source": [
    "sell_state1 = jita_orders2[(jita_orders2['type_id'] == 34) & (jita_orders2['is_buy_order'] == False)].sort_values('price', ascending=True).head(10).drop(columns=['constellation_id', 'region_id', 'http_last_modified', 'system_id', 'location_id', 'station_id'])"
   ]
  },
  {
   "cell_type": "code",
   "execution_count": 13,
   "metadata": {},
   "outputs": [],
   "source": [
    "def bid_orderflow(buy_state0, buy_state1):\n",
    "    bOF_list = []\n",
    "    for i in range(len(buy_state0)):\n",
    "        if buy_state1['price'].iloc[i] > buy_state0['price'].iloc[i]:\n",
    "            bOF = buy_state1['volume_remain'].iloc[i]\n",
    "            bOF_list.append(bOF)\n",
    "        elif buy_state1['price'].iloc[i] == buy_state0['price'].iloc[i]:\n",
    "            bOF = buy_state1['volume_remain'].iloc[i] - buy_state0['volume_remain'].iloc[i]\n",
    "            bOF_list.append(bOF)\n",
    "        elif buy_state1['price'].iloc[i] < buy_state0['price'].iloc[i]:\n",
    "            bOF = -buy_state1['volume_remain'].iloc[i]\n",
    "            bOF_list.append(bOF)\n",
    "    bOF_array = np.array(bOF_list)\n",
    "    return bOF_array"
   ]
  },
  {
   "cell_type": "code",
   "execution_count": 14,
   "metadata": {},
   "outputs": [],
   "source": [
    "def ask_orderflow(sell_state0, sell_state1):\n",
    "    aOF_list = []\n",
    "    for i in range(len(sell_state0)):\n",
    "        if sell_state1['price'].iloc[i] > sell_state0['price'].iloc[i]:\n",
    "            aOF = -sell_state1['volume_remain'].iloc[i]\n",
    "            aOF_list.append(aOF)\n",
    "        elif sell_state1['price'].iloc[i] == sell_state0['price'].iloc[i]:\n",
    "            aOF = sell_state1['volume_remain'].iloc[i] - sell_state0['volume_remain'].iloc[i]\n",
    "            aOF_list.append(aOF)\n",
    "        elif sell_state1['price'].iloc[i] < sell_state0['price'].iloc[i]:\n",
    "            aOF = sell_state1['volume_remain'].iloc[i]\n",
    "            aOF_list.append(aOF)\n",
    "    aOF_array = np.array(aOF_list)\n",
    "    return aOF_array"
   ]
  },
  {
   "cell_type": "code",
   "execution_count": 15,
   "metadata": {},
   "outputs": [],
   "source": [
    "midprice0 = (buy_state0['price'].iloc[0] + sell_state0['price'].iloc[0]) / 2\n",
    "midprice1 = (buy_state1['price'].iloc[0] + sell_state1['price'].iloc[0]) / 2"
   ]
  },
  {
   "cell_type": "code",
   "execution_count": 16,
   "metadata": {},
   "outputs": [
    {
     "name": "stdout",
     "output_type": "stream",
     "text": [
      "0.004999999999999005\n",
      "0.005\n"
     ]
    }
   ],
   "source": [
    "mp_return = midprice1 - midprice0\n",
    "print(mp_return)\n",
    "print(np.round(mp_return, 5))"
   ]
  },
  {
   "cell_type": "code",
   "execution_count": 17,
   "metadata": {},
   "outputs": [],
   "source": [
    "spread0 = sell_state0['price'].iloc[0] - buy_state0['price'].iloc[0]\n",
    "spread1 = sell_state1['price'].iloc[0] - buy_state1['price'].iloc[0]"
   ]
  },
  {
   "cell_type": "code",
   "execution_count": 18,
   "metadata": {},
   "outputs": [
    {
     "name": "stdout",
     "output_type": "stream",
     "text": [
      "[199992793 -42450186  47450186 200000000         1  74952003         1\n",
      "         1         1         1]\n"
     ]
    }
   ],
   "source": [
    "bOF = bid_orderflow(buy_state0, buy_state1)\n",
    "print(bOF)"
   ]
  },
  {
   "cell_type": "code",
   "execution_count": 19,
   "metadata": {},
   "outputs": [
    {
     "name": "stdout",
     "output_type": "stream",
     "text": [
      "[   8496293   18999422  241539369     566577   78585527          0\n",
      "          0  657497744 -656932500  -80899906]\n"
     ]
    }
   ],
   "source": [
    "aOF = ask_orderflow(sell_state0, sell_state1)\n",
    "print(aOF)"
   ]
  },
  {
   "cell_type": "code",
   "execution_count": 20,
   "metadata": {},
   "outputs": [
    {
     "name": "stdout",
     "output_type": "stream",
     "text": [
      "[ 191496500  -61449608 -194089183  199433423  -78585526   74952003\n",
      "          1 -657497743  656932501   80899907]\n"
     ]
    }
   ],
   "source": [
    "order_flow_imbalance = bOF - aOF\n",
    "print(order_flow_imbalance)"
   ]
  },
  {
   "cell_type": "code",
   "execution_count": 21,
   "metadata": {},
   "outputs": [],
   "source": [
    "bid_price = buy_state1['price'].values[0]"
   ]
  },
  {
   "cell_type": "markdown",
   "metadata": {},
   "source": [
    "input = lagged orderflow\n",
    "output target = midprice returns\n",
    "\n",
    "\n",
    "mid_price_return = midprice_1 - midprice0"
   ]
  },
  {
   "cell_type": "code",
   "execution_count": 22,
   "metadata": {},
   "outputs": [],
   "source": [
    "from src import orderflow as of"
   ]
  },
  {
   "cell_type": "code",
   "execution_count": 23,
   "metadata": {},
   "outputs": [],
   "source": [
    "t1 = of.load_data(pd.read_csv('data/2024_07_24__27/market-orders-2024-07-24_00-15-05.v3.csv'), type_id=34)\n",
    "t2 = of.load_data(pd.read_csv('data/2024_07_24__27/market-orders-2024-07-24_00-45-05.v3.csv'), type_id=34)\n",
    "t3 = of.load_data(pd.read_csv('data/2024_07_24__27/market-orders-2024-07-24_01-15-05.v3.csv'), type_id=34)"
   ]
  },
  {
   "cell_type": "code",
   "execution_count": 24,
   "metadata": {},
   "outputs": [],
   "source": [
    "features = of.calc_feats(t1['buy_data'], t2['buy_data'], t1['sell_data'], t2['sell_data'])"
   ]
  },
  {
   "cell_type": "code",
   "execution_count": 25,
   "metadata": {},
   "outputs": [
    {
     "data": {
      "text/plain": [
       "{'mid_price_return': 0.004999999999999005}"
      ]
     },
     "execution_count": 25,
     "metadata": {},
     "output_type": "execute_result"
    }
   ],
   "source": [
    "features"
   ]
  },
  {
   "cell_type": "markdown",
   "metadata": {},
   "source": [
    "next step:\n",
    "\n",
    "winsorize all independent and dependent variables in training set at 0.5 and 99.5% levels\n",
    "then z score normalise\n",
    "parameters for training dataset (in-sample) normalisation are used to scale val/test set data"
   ]
  },
  {
   "cell_type": "code",
   "execution_count": null,
   "metadata": {},
   "outputs": [],
   "source": []
  }
 ],
 "metadata": {
  "kernelspec": {
   "display_name": "eve_trading",
   "language": "python",
   "name": "python3"
  },
  "language_info": {
   "codemirror_mode": {
    "name": "ipython",
    "version": 3
   },
   "file_extension": ".py",
   "mimetype": "text/x-python",
   "name": "python",
   "nbconvert_exporter": "python",
   "pygments_lexer": "ipython3",
   "version": "3.9.18"
  }
 },
 "nbformat": 4,
 "nbformat_minor": 2
}
