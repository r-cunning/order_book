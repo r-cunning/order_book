{
 "cells": [
  {
   "cell_type": "code",
   "execution_count": null,
   "metadata": {},
   "outputs": [],
   "source": [
    "from src import snipescan\n",
    "from src import update_orderbook as uo\n",
    "import pandas as pd"
   ]
  },
  {
   "cell_type": "code",
   "execution_count": null,
   "metadata": {},
   "outputs": [],
   "source": [
    "# uo.get_two_day_window()"
   ]
  },
  {
   "cell_type": "code",
   "execution_count": null,
   "metadata": {},
   "outputs": [],
   "source": [
    "# uo.extract_bz2_files(folder_path='data/eve_ref_market_orders/last2days')\n",
    "# uo.delete_bz2_files(folder_path='data/eve_ref_market_orders/last2days')"
   ]
  },
  {
   "cell_type": "code",
   "execution_count": null,
   "metadata": {},
   "outputs": [],
   "source": [
    "# uo.update_book()"
   ]
  },
  {
   "cell_type": "code",
   "execution_count": null,
   "metadata": {},
   "outputs": [],
   "source": [
    "raw_data = pd.read_csv('data/eve_ref_market_orders/latest/market-orders-latest.v3.csv')"
   ]
  },
  {
   "cell_type": "code",
   "execution_count": null,
   "metadata": {},
   "outputs": [],
   "source": [
    "print(raw_data.head())"
   ]
  },
  {
   "cell_type": "code",
   "execution_count": null,
   "metadata": {},
   "outputs": [],
   "source": [
    "len(raw_data['station_id'].unique())"
   ]
  },
  {
   "cell_type": "code",
   "execution_count": null,
   "metadata": {},
   "outputs": [],
   "source": [
    "station_ids = {\n",
    "    # 'Amarr': 60008494,\n",
    "    'Jita': 60003760,\n",
    "    # 'Dodixie': 60011866,\n",
    "    # 'Hek': 60005686,\n",
    "    # 'Rens': 60004588\n",
    "}"
   ]
  },
  {
   "cell_type": "code",
   "execution_count": null,
   "metadata": {},
   "outputs": [],
   "source": [
    "\n",
    "for station_name, station_id in station_ids.items():\n",
    "\n",
    "    print(\"=====================================\")\n",
    "    print(f\"Checking for snipes at hub: {station_name}\")\n",
    "    print(\"=====================================\")\n",
    "    snipes = snipescan.filter_data(raw_data, station_id,sell_spread_threshold=0.8, profit_margin = 100000, cost_threshold = 5000000)"
   ]
  },
  {
   "cell_type": "code",
   "execution_count": null,
   "metadata": {},
   "outputs": [],
   "source": [
    "df = pd.DataFrame(snipes)"
   ]
  },
  {
   "cell_type": "code",
   "execution_count": null,
   "metadata": {},
   "outputs": [],
   "source": [
    "df = df.sort_values(by='profit', ascending=False)"
   ]
  },
  {
   "cell_type": "code",
   "execution_count": null,
   "metadata": {},
   "outputs": [],
   "source": [
    "df.head(50)"
   ]
  },
  {
   "cell_type": "code",
   "execution_count": null,
   "metadata": {},
   "outputs": [],
   "source": [
    "daily_prices = pd.read_csv('data/daily_prices/market-history-2024-08-31.csv/market-history-2024-08-31.csv')"
   ]
  },
  {
   "cell_type": "code",
   "execution_count": null,
   "metadata": {},
   "outputs": [],
   "source": [
    "print(daily_prices.head())"
   ]
  },
  {
   "cell_type": "code",
   "execution_count": null,
   "metadata": {},
   "outputs": [],
   "source": [
    "snipe_chances = df.head(50)"
   ]
  },
  {
   "cell_type": "code",
   "execution_count": null,
   "metadata": {},
   "outputs": [],
   "source": [
    "for i in range(0, 50):\n",
    "    snipe_chance = snipe_chances.iloc[i]\n",
    "    \n",
    "    snipe_daily = daily_prices[daily_prices['type_id'] == snipe_chance['type_id']]\n",
    "    snipe_daily = snipe_daily[snipe_daily['region_id'] == 10000001]\n",
    "    if snipe_daily.empty:\n",
    "        print(\"No daily price data found for item\")\n",
    "    else:\n",
    "        print(\"Snipe Chance:\")\n",
    "        print(snipe_daily)"
   ]
  },
  {
   "cell_type": "code",
   "execution_count": null,
   "metadata": {},
   "outputs": [],
   "source": []
  }
 ],
 "metadata": {
  "kernelspec": {
   "display_name": "eve_trading",
   "language": "python",
   "name": "python3"
  },
  "language_info": {
   "codemirror_mode": {
    "name": "ipython",
    "version": 3
   },
   "file_extension": ".py",
   "mimetype": "text/x-python",
   "name": "python",
   "nbconvert_exporter": "python",
   "pygments_lexer": "ipython3",
   "version": "3.9.18"
  }
 },
 "nbformat": 4,
 "nbformat_minor": 2
}
